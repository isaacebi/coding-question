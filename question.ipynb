{
 "cells": [
  {
   "cell_type": "code",
   "execution_count": 25,
   "metadata": {},
   "outputs": [
    {
     "name": "stdout",
     "output_type": "stream",
     "text": [
      "[2, 3, 1, 4, 2]\n"
     ]
    }
   ],
   "source": [
    "a = [2, 3, 3, 2, 2]\n",
    "b = [1, 3, 2, 4, 1]\n",
    "k = 2\n",
    "\n",
    "def getMaximumDistinctNumber(a, b, k):\n",
    "    n = len(a)\n",
    "    set_array = []\n",
    "    for i in range(n):\n",
    "            if a[i] not in set_array:\n",
    "                set_array.append(a[i])\n",
    "            else:\n",
    "                if k > 0:\n",
    "                    for j in range(n):\n",
    "                        if b[j] not in set_array:\n",
    "                            a[i] = b[j]\n",
    "                            \n",
    "                    set_array.append(b[j])\n",
    "                    k -= 1\n",
    "        \n",
    "    print(a)\n",
    "\n",
    "\n",
    "getMaximumDistinctNumber(a, b, k)"
   ]
  },
  {
   "cell_type": "code",
   "execution_count": null,
   "metadata": {},
   "outputs": [],
   "source": []
  }
 ],
 "metadata": {
  "kernelspec": {
   "display_name": "Python 3",
   "language": "python",
   "name": "python3"
  },
  "language_info": {
   "codemirror_mode": {
    "name": "ipython",
    "version": 3
   },
   "file_extension": ".py",
   "mimetype": "text/x-python",
   "name": "python",
   "nbconvert_exporter": "python",
   "pygments_lexer": "ipython3",
   "version": "3.9.18"
  }
 },
 "nbformat": 4,
 "nbformat_minor": 2
}
