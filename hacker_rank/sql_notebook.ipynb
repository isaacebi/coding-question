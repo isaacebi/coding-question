{
 "cells": [
  {
   "cell_type": "markdown",
   "metadata": {},
   "source": [
    "# HackerRank: The PADS [Medium]\n",
    "\n",
    "<div>\n",
    "<img src=\"res\\the-pads-English_page-0001.jpg\" alt=\"The PADS\" style=\"width: 600px;\"/>\n",
    "<img src=\"res\\the-pads-English_page-0002.jpg\" alt=\"The PADS\" style=\"width: 600px;\"/>\n",
    "</div>\n",
    "\n",
    "\n",
    "***My Solution:***\n",
    "```sql\n",
    "-- First Query: Names with Occupation Initials\n",
    "SELECT\n",
    "  CONCAT(Name,  -- Combine name with...\n",
    "         \"(\",        -- opening parenthesis\n",
    "         SUBSTRING(Occupation, 1, 1), -- first character of occupation (capitalized)\n",
    "         \")\"         -- closing parenthesis\n",
    "  ) AS CombinedNameInitial -- Assign alias for readability\n",
    "FROM OCCUPATIONS\n",
    "ORDER BY Name;  -- Order results alphabetically by name\n",
    "\n",
    "\n",
    "-- Second Query: Occupation Counts\n",
    "SELECT\n",
    "  CONCAT(\n",
    "    \"There are a total of \",\n",
    "    COUNT(Occupation),  -- Count the number of occurrences for each occupation\n",
    "    \" \",\n",
    "    LOWER(Occupation),  -- Convert occupation to lowercase\n",
    "    \"s.\"                -- Add \"s\" for plural\n",
    "  ) AS OccupationSummary -- Assign alias for readability\n",
    "FROM OCCUPATIONS\n",
    "GROUP BY Occupation  -- Group results by occupation\n",
    "ORDER BY\n",
    "  COUNT(Occupation),  -- Order by count (descending)\n",
    "  Occupation;             -- Then by occupation alphabetically\n",
    "```"
   ]
  },
  {
   "cell_type": "markdown",
   "metadata": {},
   "source": []
  }
 ],
 "metadata": {
  "language_info": {
   "name": "python"
  }
 },
 "nbformat": 4,
 "nbformat_minor": 2
}
