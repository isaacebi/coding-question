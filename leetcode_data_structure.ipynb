{
  "nbformat": 4,
  "nbformat_minor": 0,
  "metadata": {
    "colab": {
      "name": "leetcode_data_structure.ipynb",
      "provenance": [],
      "authorship_tag": "ABX9TyOFBWGvOxAqSq9zUvfs8TJx",
      "include_colab_link": true
    },
    "kernelspec": {
      "name": "python3",
      "display_name": "Python 3"
    },
    "language_info": {
      "name": "python"
    }
  },
  "cells": [
    {
      "cell_type": "markdown",
      "metadata": {
        "id": "view-in-github",
        "colab_type": "text"
      },
      "source": [
        "<a href=\"https://colab.research.google.com/github/isaacebi/leetcode-data-structure/blob/main/leetcode_data_structure.ipynb\" target=\"_parent\"><img src=\"https://colab.research.google.com/assets/colab-badge.svg\" alt=\"Open In Colab\"/></a>"
      ]
    },
    {
      "cell_type": "markdown",
      "source": [
        "# Easy"
      ],
      "metadata": {
        "id": "-6c12EoCFMk7"
      }
    },
    {
      "cell_type": "markdown",
      "source": [
        "217. Contains Duplicate"
      ],
      "metadata": {
        "id": "JQf8zPIRFIXM"
      }
    },
    {
      "cell_type": "code",
      "execution_count": null,
      "metadata": {
        "colab": {
          "base_uri": "https://localhost:8080/"
        },
        "id": "jJ5y7uTNFBEe",
        "outputId": "08e52709-42e1-4c26-fdc3-7b89c446e52f"
      },
      "outputs": [
        {
          "output_type": "stream",
          "name": "stdout",
          "text": [
            "Input 1 has duplicates = [True]\n",
            "Input 2 has duplicates = [False]\n",
            "Input 2 has duplicates = [True]\n"
          ]
        }
      ],
      "source": [
        "input1 = [1,2,3,1]\n",
        "input2 = [1,2,3,4]\n",
        "input3 = [1,1,1,3,3,4,3,2,4,2]\n",
        "\n",
        "class Solution:\n",
        "    def containsDuplicate(self, nums) -> bool:\n",
        "      return (len(set(nums))!=len(nums))\n",
        "\n",
        "print(\"Input 1 has duplicates = [{}]\".format(Solution().containsDuplicate(input1)))\n",
        "print(\"Input 2 has duplicates = [{}]\".format(Solution().containsDuplicate(input2)))\n",
        "print(\"Input 2 has duplicates = [{}]\".format(Solution().containsDuplicate(input3)))"
      ]
    },
    {
      "cell_type": "markdown",
      "source": [
        "53. Maximum Subarray"
      ],
      "metadata": {
        "id": "PvY4ZToyKI0V"
      }
    },
    {
      "cell_type": "code",
      "source": [
        "input1 = [-2,1,-3,4,-1,2,1,-5,4]\n",
        "\n",
        "class Solution:\n",
        "    def maxSubArray(self, nums) -> int:\n",
        "      local_best = 0\n",
        "      global_best = 0\n",
        "      for i in range(len(input1)):\n",
        "        local_best = max(local_best + input1[i], input1[i])\n",
        "        global_best = max(local_best, global_best)\n",
        "      return global_best\n",
        "\n",
        "Solution().maxSubArray(input1)"
      ],
      "metadata": {
        "id": "NotCLlmwFjGQ",
        "colab": {
          "base_uri": "https://localhost:8080/"
        },
        "outputId": "a327ed12-1055-4567-c0c0-fa9692e02507"
      },
      "execution_count": 31,
      "outputs": [
        {
          "output_type": "execute_result",
          "data": {
            "text/plain": [
              "6"
            ]
          },
          "metadata": {},
          "execution_count": 31
        }
      ]
    }
  ]
}