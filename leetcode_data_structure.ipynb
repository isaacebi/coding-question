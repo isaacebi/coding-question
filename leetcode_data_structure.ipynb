{
  "nbformat": 4,
  "nbformat_minor": 0,
  "metadata": {
    "colab": {
      "name": "leetcode_data_structure.ipynb",
      "provenance": [],
      "authorship_tag": "ABX9TyObeAX7DSg+RcxznM58I01J",
      "include_colab_link": true
    },
    "kernelspec": {
      "name": "python3",
      "display_name": "Python 3"
    },
    "language_info": {
      "name": "python"
    }
  },
  "cells": [
    {
      "cell_type": "markdown",
      "metadata": {
        "id": "view-in-github",
        "colab_type": "text"
      },
      "source": [
        "<a href=\"https://colab.research.google.com/github/isaacebi/coding-question/blob/main/leetcode_data_structure.ipynb\" target=\"_parent\"><img src=\"https://colab.research.google.com/assets/colab-badge.svg\" alt=\"Open In Colab\"/></a>"
      ]
    },
    {
      "cell_type": "markdown",
      "source": [
        "217. Contains Duplicate - Easy"
      ],
      "metadata": {
        "id": "JQf8zPIRFIXM"
      }
    },
    {
      "cell_type": "code",
      "execution_count": null,
      "metadata": {
        "colab": {
          "base_uri": "https://localhost:8080/"
        },
        "id": "jJ5y7uTNFBEe",
        "outputId": "08e52709-42e1-4c26-fdc3-7b89c446e52f"
      },
      "outputs": [
        {
          "output_type": "stream",
          "name": "stdout",
          "text": [
            "Input 1 has duplicates = [True]\n",
            "Input 2 has duplicates = [False]\n",
            "Input 2 has duplicates = [True]\n"
          ]
        }
      ],
      "source": [
        "input1 = [1,2,3,1]\n",
        "input2 = [1,2,3,4]\n",
        "input3 = [1,1,1,3,3,4,3,2,4,2]\n",
        "\n",
        "class Solution:\n",
        "    def containsDuplicate(self, nums) -> bool:\n",
        "      return (len(set(nums))!=len(nums))\n",
        "\n",
        "print(\"Input 1 has duplicates = [{}]\".format(Solution().containsDuplicate(input1)))\n",
        "print(\"Input 2 has duplicates = [{}]\".format(Solution().containsDuplicate(input2)))\n",
        "print(\"Input 2 has duplicates = [{}]\".format(Solution().containsDuplicate(input3)))"
      ]
    },
    {
      "cell_type": "markdown",
      "source": [
        "53. Maximum Subarray - Medium"
      ],
      "metadata": {
        "id": "PvY4ZToyKI0V"
      }
    },
    {
      "cell_type": "code",
      "source": [
        "input1 = [-2,1,-3,4,-1,2,1,-5,4]\n",
        "input2 = [-1]\n",
        "input3 = [-2,-1]\n",
        "\n",
        "class Solution:\n",
        "    def maxSubArray(self, nums) -> int:\n",
        "      local_best = float('-inf')\n",
        "      global_best = float('-inf')\n",
        "\n",
        "      if len(nums)==1:\n",
        "          global_best = nums[0]\n",
        "          return global_best\n",
        "\n",
        "      for i in range(len(nums)):\n",
        "        local_best = max(local_best + nums[i], nums[i])\n",
        "        global_best = max(local_best, global_best)\n",
        "      return global_best\n",
        "\n",
        "Solution().maxSubArray(input3)"
      ],
      "metadata": {
        "id": "NotCLlmwFjGQ",
        "colab": {
          "base_uri": "https://localhost:8080/"
        },
        "outputId": "defb1c5b-0236-4001-d981-012e67681840"
      },
      "execution_count": null,
      "outputs": [
        {
          "output_type": "execute_result",
          "data": {
            "text/plain": [
              "-1"
            ]
          },
          "metadata": {},
          "execution_count": 7
        }
      ]
    },
    {
      "cell_type": "markdown",
      "source": [
        "1. Two Sum - Easy"
      ],
      "metadata": {
        "id": "G1lkH6ZbRdK3"
      }
    },
    {
      "cell_type": "code",
      "source": [
        "input1 = [2,7,11,15]\n",
        "target1 = 9\n",
        "\n",
        "class Solution:\n",
        "    def twoSum(self, nums, target):\n",
        "      \n",
        "      map = {}\n",
        "      for i in range(len(nums)):\n",
        "          if nums[i] in map: # if differences is True take combination\n",
        "              return [i, map[nums[i]]]\n",
        "          else:\n",
        "              map[target - nums[i]] = i # differences between target and num\n",
        "\n",
        "Solution().twoSum(input1, target1)"
      ],
      "metadata": {
        "colab": {
          "base_uri": "https://localhost:8080/"
        },
        "id": "tbE4i8lARgTB",
        "outputId": "346b2f64-cffb-46ca-b570-09562593fa63"
      },
      "execution_count": 7,
      "outputs": [
        {
          "output_type": "execute_result",
          "data": {
            "text/plain": [
              "[1, 0]"
            ]
          },
          "metadata": {},
          "execution_count": 7
        }
      ]
    },
    {
      "cell_type": "markdown",
      "source": [
        "88. Merge Sorted Array - Easy"
      ],
      "metadata": {
        "id": "5eBPk2NuPinl"
      }
    },
    {
      "cell_type": "code",
      "source": [
        "nums1 = [1,2,3,0,0,0]\n",
        "m = 3\n",
        "nums2 = [2,5,6]\n",
        "n = 3\n",
        "\n",
        "class Solution:\n",
        "    def merge(self, nums1, m, nums2, n) -> None:\n",
        "        \"\"\"\n",
        "        Do not return anything, modify nums1 in-place instead.\n",
        "        \"\"\"\n",
        "        _ = nums1[:m] + nums2[:n]\n",
        "        _.sort()\n",
        "\n",
        "        for i, j in enumerate(nums1):\n",
        "          nums1[i] = _[i]\n",
        "\n",
        "        return nums1 # just for displaying\n",
        "\n",
        "\n",
        "Solution().merge(nums1, m, nums2, n)"
      ],
      "metadata": {
        "colab": {
          "base_uri": "https://localhost:8080/"
        },
        "id": "y8w910FzONje",
        "outputId": "027d9a96-c3cb-4fa8-ffc3-e52e59f545f3"
      },
      "execution_count": 31,
      "outputs": [
        {
          "output_type": "execute_result",
          "data": {
            "text/plain": [
              "[1, 2, 2, 3, 5, 6]"
            ]
          },
          "metadata": {},
          "execution_count": 31
        }
      ]
    }
  ]
}